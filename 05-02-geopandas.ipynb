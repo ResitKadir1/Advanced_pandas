{
 "cells": [
  {
   "cell_type": "markdown",
   "metadata": {
    "id": "iRrHtHBJJ0kk"
   },
   "source": [
    "<img src=\"https://pandas.pydata.org/static/img/pandas.svg\" width=\"250\">\n",
    "\n",
    "## <center> Beyond Pandas with GeoPandas"
   ]
  },
  {
   "cell_type": "code",
   "execution_count": 9,
   "metadata": {},
   "outputs": [],
   "source": [
    "#!pip install geopandas"
   ]
  },
  {
   "cell_type": "code",
   "execution_count": 10,
   "metadata": {},
   "outputs": [
    {
     "ename": "ModuleNotFoundError",
     "evalue": "No module named 'CorrectPythonPackage'",
     "output_type": "error",
     "traceback": [
      "\u001b[0;31m---------------------------------------------------------------------------\u001b[0m",
      "\u001b[0;31mModuleNotFoundError\u001b[0m                       Traceback (most recent call last)",
      "\u001b[0;32m<ipython-input-10-90409902855e>\u001b[0m in \u001b[0;36m<module>\u001b[0;34m\u001b[0m\n\u001b[0;32m----> 1\u001b[0;31m \u001b[0;32mfrom\u001b[0m \u001b[0mCorrectPythonPackage\u001b[0m\u001b[0;34m.\u001b[0m\u001b[0mtoken\u001b[0m \u001b[0;32mimport\u001b[0m \u001b[0;34m*\u001b[0m\u001b[0;34m\u001b[0m\u001b[0;34m\u001b[0m\u001b[0m\n\u001b[0m",
      "\u001b[0;31mModuleNotFoundError\u001b[0m: No module named 'CorrectPythonPackage'"
     ]
    }
   ],
   "source": [
    "from CorrectPythonPackage.token import *"
   ]
  },
  {
   "cell_type": "code",
   "execution_count": 11,
   "metadata": {
    "executionInfo": {
     "elapsed": 614,
     "status": "ok",
     "timestamp": 1605104179301,
     "user": {
      "displayName": "Brett Vanderblock",
      "photoUrl": "https://lh3.googleusercontent.com/a-/AOh14GhmgXUM06I_0Utz7PNi8ns4XuV5Uba2Tr63jSQX=s64",
      "userId": "08986418591522242227"
     },
     "user_tz": 480
    },
    "id": "Y83FG0CmcD1K"
   },
   "outputs": [],
   "source": [
    "import pandas as pd\n",
    "import geopandas"
   ]
  },
  {
   "cell_type": "code",
   "execution_count": 12,
   "metadata": {
    "executionInfo": {
     "elapsed": 480,
     "status": "ok",
     "timestamp": 1605104179568,
     "user": {
      "displayName": "Brett Vanderblock",
      "photoUrl": "https://lh3.googleusercontent.com/a-/AOh14GhmgXUM06I_0Utz7PNi8ns4XuV5Uba2Tr63jSQX=s64",
      "userId": "08986418591522242227"
     },
     "user_tz": 480
    },
    "id": "F3MkYXD2_0_y"
   },
   "outputs": [],
   "source": [
    "peaks = pd.DataFrame(\n",
    "    {'Peak Name': ['Green Mtn.', 'So. Boulder Peak', 'Bear Peak', 'Flagstaff Mtn.', 'Mt. Sanitas'],\n",
    "     'Latitude': [39.9821, 39.9539, 39.9603, 40.0017, 40.0360968],\n",
    "     'Longitude': [-105.3016, -105.2992, -105.2952, -105.3075, -105.3061024]})"
   ]
  },
  {
   "cell_type": "code",
   "execution_count": 13,
   "metadata": {
    "colab": {
     "base_uri": "https://localhost:8080/",
     "height": 203
    },
    "executionInfo": {
     "elapsed": 893,
     "status": "ok",
     "timestamp": 1605104222889,
     "user": {
      "displayName": "Brett Vanderblock",
      "photoUrl": "https://lh3.googleusercontent.com/a-/AOh14GhmgXUM06I_0Utz7PNi8ns4XuV5Uba2Tr63jSQX=s64",
      "userId": "08986418591522242227"
     },
     "user_tz": 480
    },
    "id": "KWrhjC1uBx9c",
    "outputId": "69584e4f-0d13-4d8d-e9f9-6368db8ee0b2"
   },
   "outputs": [
    {
     "data": {
      "text/html": [
       "<div>\n",
       "<style scoped>\n",
       "    .dataframe tbody tr th:only-of-type {\n",
       "        vertical-align: middle;\n",
       "    }\n",
       "\n",
       "    .dataframe tbody tr th {\n",
       "        vertical-align: top;\n",
       "    }\n",
       "\n",
       "    .dataframe thead th {\n",
       "        text-align: right;\n",
       "    }\n",
       "</style>\n",
       "<table border=\"1\" class=\"dataframe\">\n",
       "  <thead>\n",
       "    <tr style=\"text-align: right;\">\n",
       "      <th></th>\n",
       "      <th>Peak Name</th>\n",
       "      <th>Latitude</th>\n",
       "      <th>Longitude</th>\n",
       "      <th>geometry</th>\n",
       "    </tr>\n",
       "  </thead>\n",
       "  <tbody>\n",
       "    <tr>\n",
       "      <th>0</th>\n",
       "      <td>Green Mtn.</td>\n",
       "      <td>39.982100</td>\n",
       "      <td>-105.301600</td>\n",
       "      <td>POINT (-105.30160 39.98210)</td>\n",
       "    </tr>\n",
       "    <tr>\n",
       "      <th>1</th>\n",
       "      <td>So. Boulder Peak</td>\n",
       "      <td>39.953900</td>\n",
       "      <td>-105.299200</td>\n",
       "      <td>POINT (-105.29920 39.95390)</td>\n",
       "    </tr>\n",
       "    <tr>\n",
       "      <th>2</th>\n",
       "      <td>Bear Peak</td>\n",
       "      <td>39.960300</td>\n",
       "      <td>-105.295200</td>\n",
       "      <td>POINT (-105.29520 39.96030)</td>\n",
       "    </tr>\n",
       "    <tr>\n",
       "      <th>3</th>\n",
       "      <td>Flagstaff Mtn.</td>\n",
       "      <td>40.001700</td>\n",
       "      <td>-105.307500</td>\n",
       "      <td>POINT (-105.30750 40.00170)</td>\n",
       "    </tr>\n",
       "    <tr>\n",
       "      <th>4</th>\n",
       "      <td>Mt. Sanitas</td>\n",
       "      <td>40.036097</td>\n",
       "      <td>-105.306102</td>\n",
       "      <td>POINT (-105.30610 40.03610)</td>\n",
       "    </tr>\n",
       "  </tbody>\n",
       "</table>\n",
       "</div>"
      ],
      "text/plain": [
       "          Peak Name   Latitude   Longitude                     geometry\n",
       "0        Green Mtn.  39.982100 -105.301600  POINT (-105.30160 39.98210)\n",
       "1  So. Boulder Peak  39.953900 -105.299200  POINT (-105.29920 39.95390)\n",
       "2         Bear Peak  39.960300 -105.295200  POINT (-105.29520 39.96030)\n",
       "3    Flagstaff Mtn.  40.001700 -105.307500  POINT (-105.30750 40.00170)\n",
       "4       Mt. Sanitas  40.036097 -105.306102  POINT (-105.30610 40.03610)"
      ]
     },
     "execution_count": 13,
     "metadata": {},
     "output_type": "execute_result"
    }
   ],
   "source": [
    "gdf = geopandas.GeoDataFrame(\n",
    "    peaks, geometry=geopandas.points_from_xy(peaks.Longitude, peaks.Latitude))\n",
    "gdf"
   ]
  },
  {
   "cell_type": "code",
   "execution_count": 18,
   "metadata": {
    "colab": {
     "base_uri": "https://localhost:8080/",
     "height": 542
    },
    "executionInfo": {
     "elapsed": 1407,
     "status": "ok",
     "timestamp": 1605104380174,
     "user": {
      "displayName": "Brett Vanderblock",
      "photoUrl": "https://lh3.googleusercontent.com/a-/AOh14GhmgXUM06I_0Utz7PNi8ns4XuV5Uba2Tr63jSQX=s64",
      "userId": "08986418591522242227"
     },
     "user_tz": 480
    },
    "id": "DE-JBal5B7cz",
    "outputId": "f7bf3290-36bc-42ee-d3c7-c9c7b0d8267a"
   },
   "outputs": [
    {
     "ename": "NameError",
     "evalue": "name 'token' is not defined",
     "output_type": "error",
     "traceback": [
      "\u001b[0;31m---------------------------------------------------------------------------\u001b[0m",
      "\u001b[0;31mNameError\u001b[0m                                 Traceback (most recent call last)",
      "\u001b[0;32m<ipython-input-18-f11ff98abc80>\u001b[0m in \u001b[0;36m<module>\u001b[0;34m\u001b[0m\n\u001b[1;32m      1\u001b[0m \u001b[0;32mimport\u001b[0m \u001b[0mplotly\u001b[0m\u001b[0;34m.\u001b[0m\u001b[0mexpress\u001b[0m \u001b[0;32mas\u001b[0m \u001b[0mpx\u001b[0m\u001b[0;34m\u001b[0m\u001b[0;34m\u001b[0m\u001b[0m\n\u001b[0;32m----> 2\u001b[0;31m \u001b[0mpx\u001b[0m\u001b[0;34m.\u001b[0m\u001b[0mset_mapbox_access_token\u001b[0m\u001b[0;34m(\u001b[0m\u001b[0mtoken\u001b[0m\u001b[0;34m)\u001b[0m\u001b[0;34m\u001b[0m\u001b[0;34m\u001b[0m\u001b[0m\n\u001b[0m\u001b[1;32m      3\u001b[0m \u001b[0mgdf\u001b[0m\u001b[0;34m[\u001b[0m\u001b[0;34m'size'\u001b[0m\u001b[0;34m]\u001b[0m \u001b[0;34m=\u001b[0m \u001b[0;36m65\u001b[0m\u001b[0;34m\u001b[0m\u001b[0;34m\u001b[0m\u001b[0m\n\u001b[1;32m      4\u001b[0m \u001b[0;34m\u001b[0m\u001b[0m\n\u001b[1;32m      5\u001b[0m fig = px.scatter_mapbox(gdf,\n",
      "\u001b[0;31mNameError\u001b[0m: name 'token' is not defined"
     ]
    }
   ],
   "source": [
    "import plotly.express as px\n",
    "px.set_mapbox_access_token(token)\n",
    "gdf['size'] = 65\n",
    "\n",
    "fig = px.scatter_mapbox(gdf,\n",
    "                        lat=gdf.geometry.y,\n",
    "                        lon=gdf.geometry.x,\n",
    "                        color=\"Peak Name\",\n",
    "                        hover_name=\"Peak Name\",\n",
    "                        mapbox_style='outdoors',\n",
    "                        size='size',\n",
    "                        zoom=10)\n",
    "\n",
    "fig.show()"
   ]
  },
  {
   "cell_type": "code",
   "execution_count": null,
   "metadata": {
    "id": "ycODxUrqCrxT"
   },
   "outputs": [],
   "source": []
  }
 ],
 "metadata": {
  "colab": {
   "authorship_tag": "ABX9TyNowU9vORUXh8ZJfWUuCdZZ",
   "collapsed_sections": [],
   "name": "05-02-geopandas.ipynb",
   "provenance": []
  },
  "kernelspec": {
   "display_name": "Python 3",
   "language": "python",
   "name": "python3"
  },
  "language_info": {
   "codemirror_mode": {
    "name": "ipython",
    "version": 3
   },
   "file_extension": ".py",
   "mimetype": "text/x-python",
   "name": "python",
   "nbconvert_exporter": "python",
   "pygments_lexer": "ipython3",
   "version": "3.8.8"
  }
 },
 "nbformat": 4,
 "nbformat_minor": 1
}
